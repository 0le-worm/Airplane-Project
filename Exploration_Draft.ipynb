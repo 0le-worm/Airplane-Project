{
 "cells": [
  {
   "cell_type": "markdown",
   "id": "4bc3e794-6ddb-4eca-9612-f57f65ebb3c6",
   "metadata": {},
   "source": [
    "##EXPLORATION DRAFT##"
   ]
  },
  {
   "cell_type": "markdown",
   "id": "437ae3a4-feb6-481f-9256-3c331cba5dfa",
   "metadata": {},
   "source": [
    "This is the Branch we will parse the data in. You can load the data below."
   ]
  },
  {
   "cell_type": "code",
   "execution_count": 5,
   "id": "716bd2ea-907f-4666-be82-6aac8a6f5043",
   "metadata": {},
   "outputs": [],
   "source": [
    "import pandas as pd"
   ]
  },
  {
   "cell_type": "code",
   "execution_count": 8,
   "id": "8d5c450c",
   "metadata": {},
   "outputs": [],
   "source": [
    "df = pd.read_csv('./airplane_data/USState_Codes.csv')"
   ]
  },
  {
   "cell_type": "code",
   "execution_count": 9,
   "id": "99711a44-a856-4d4b-ae96-76bca2cd53f3",
   "metadata": {},
   "outputs": [
    {
     "name": "stderr",
     "output_type": "stream",
     "text": [
      "/Users/goknurkaya/anaconda3/envs/learn-env/lib/python3.8/site-packages/IPython/core/interactiveshell.py:3145: DtypeWarning: Columns (6,7,28) have mixed types.Specify dtype option on import or set low_memory=False.\n",
      "  has_raised = await self.run_ast_nodes(code_ast.body, cell_name,\n"
     ]
    }
   ],
   "source": [
    "dtypes = {'column_name_6': 'int64', 'column_name_7': 'float64', 'column_name_28': 'float64'}\n",
    "\n",
    "aviation = pd.read_csv('./airplane_data/AviationData.csv', encoding='ISO-8859-1', dtype=dtypes)"
   ]
  },
  {
   "cell_type": "code",
   "execution_count": null,
   "id": "5623cc14",
   "metadata": {},
   "outputs": [],
   "source": []
  }
 ],
 "metadata": {
  "kernelspec": {
   "display_name": "Python (learn-env)",
   "language": "python",
   "name": "learn-env"
  },
  "language_info": {
   "codemirror_mode": {
    "name": "ipython",
    "version": 3
   },
   "file_extension": ".py",
   "mimetype": "text/x-python",
   "name": "python",
   "nbconvert_exporter": "python",
   "pygments_lexer": "ipython3",
   "version": "3.8.5"
  }
 },
 "nbformat": 4,
 "nbformat_minor": 5
}
